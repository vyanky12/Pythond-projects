{
 "cells": [
  {
   "cell_type": "code",
   "execution_count": 17,
   "id": "17fb27e2-2810-4966-b845-44fd2a9e3fe8",
   "metadata": {},
   "outputs": [],
   "source": [
    "import numpy as np\n",
    "import matplotlib.pyplot as plt\n",
    "import random "
   ]
  },
  {
   "cell_type": "code",
   "execution_count": 18,
   "id": "b67cbbbc-e68d-483e-a659-2c718a28a8d2",
   "metadata": {},
   "outputs": [
    {
     "name": "stdout",
     "output_type": "stream",
     "text": [
      "[-7, -8, -7, -6, -7, 7, 6, -3, 6, -6]\n"
     ]
    }
   ],
   "source": [
    "x = [random.randint(-10, 10) for i in range(10)]\n",
    "print(x)"
   ]
  },
  {
   "cell_type": "code",
   "execution_count": 19,
   "id": "82292b43-ec02-4e8c-9b34-68bcad2964e8",
   "metadata": {},
   "outputs": [
    {
     "name": "stdout",
     "output_type": "stream",
     "text": [
      "First negative value -7 added to p1\n",
      "First positive value 7 added to p2\n",
      "\n",
      "Final p1 (first negative value): -7\n",
      "Final p2 (first positive value): 7\n"
     ]
    }
   ],
   "source": [
    "p1 = None  # To store the first negative value\n",
    "p2 = None  # To store the first positive value\n",
    "\n",
    "# Iterate over the list `x`\n",
    "for value in x:\n",
    "    if value < 0:\n",
    "        if p1 is None:  # Store the first negative value in p1\n",
    "            p1 = value\n",
    "            print(f\"First negative value {p1} added to p1\")\n",
    "    \n",
    "    elif value > 0:\n",
    "        if p2 is None and p1 is not None:  # Store the first positive value after the negative value in p2\n",
    "            p2 = value\n",
    "            print(f\"First positive value {p2} added to p2\")\n",
    "        \n",
    "        # Once both values are found, stop the loop\n",
    "        if p1 is not None and p2 is not None:\n",
    "            break\n",
    "\n"
   ]
  },
  {
   "cell_type": "code",
   "execution_count": 20,
   "id": "6a31c22c-9587-4612-bfad-044acd649cb5",
   "metadata": {},
   "outputs": [
    {
     "name": "stdout",
     "output_type": "stream",
     "text": [
      "List x: [-6, 1, 9, 6, -2, 3, 6, -6, 1, -3]\n",
      "First negative value -6 added to p1\n",
      "First positive value 1 added to p2\n",
      "Root found: -2.0\n",
      "Root: -2.0\n"
     ]
    }
   ],
   "source": [
    "import random\n",
    "\n",
    "def f(x):\n",
    "    return x**2 - 4\n",
    "\n",
    "x = [random.randint(-10, 10) for i in range(10)]\n",
    "print(\"List x:\", x)\n",
    "\n",
    "p1 = None\n",
    "p2 = None\n",
    "\n",
    "for value in x:\n",
    "    if value < 0:\n",
    "        if p1 is None:\n",
    "            p1 = value\n",
    "            print(f\"First negative value {p1} added to p1\")\n",
    "    \n",
    "    elif value > 0:\n",
    "        if p2 is None and p1 is not None:\n",
    "            p2 = value\n",
    "            print(f\"First positive value {p2} added to p2\")\n",
    "        \n",
    "        if p1 is not None and p2 is not None:\n",
    "            break\n",
    "\n",
    "def bisection_method(f, p1, p2):\n",
    "    if f(p1) * f(p2) > 0:\n",
    "        print(\"No root found within the given interval.\")\n",
    "        return None\n",
    "    \n",
    "    while True:\n",
    "        p_mid = (p1 + p2) / 2\n",
    "        f_mid = f(p_mid)\n",
    "        \n",
    "        if f_mid == 0:\n",
    "            print(f\"Root found: {p_mid}\")\n",
    "            return p_mid\n",
    "        \n",
    "        if f(p1) * f_mid < 0:\n",
    "            p2 = p_mid\n",
    "        else:\n",
    "            p1 = p_mid\n",
    "\n",
    "root = bisection_method(f, p1, p2)\n",
    "\n",
    "print(f\"Root: {root}\")\n"
   ]
  },
  {
   "cell_type": "code",
   "execution_count": null,
   "id": "bd62ba27-15f6-497e-ae67-535937e01578",
   "metadata": {},
   "outputs": [],
   "source": []
  }
 ],
 "metadata": {
  "kernelspec": {
   "display_name": "Python 3 (ipykernel)",
   "language": "python",
   "name": "python3"
  },
  "language_info": {
   "codemirror_mode": {
    "name": "ipython",
    "version": 3
   },
   "file_extension": ".py",
   "mimetype": "text/x-python",
   "name": "python",
   "nbconvert_exporter": "python",
   "pygments_lexer": "ipython3",
   "version": "3.12.2"
  }
 },
 "nbformat": 4,
 "nbformat_minor": 5
}
